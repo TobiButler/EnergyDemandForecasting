{
 "cells": [
  {
   "cell_type": "code",
   "execution_count": 9,
   "metadata": {},
   "outputs": [],
   "source": [
    "import pandas as pd\n",
    "import numpy as np\n",
    "import torch as t\n",
    "import plotly.graph_objects as go\n",
    "import seaborn as sns"
   ]
  },
  {
   "cell_type": "code",
   "execution_count": 2,
   "metadata": {},
   "outputs": [
    {
     "data": {
      "text/html": [
       "<div>\n",
       "<style scoped>\n",
       "    .dataframe tbody tr th:only-of-type {\n",
       "        vertical-align: middle;\n",
       "    }\n",
       "\n",
       "    .dataframe tbody tr th {\n",
       "        vertical-align: top;\n",
       "    }\n",
       "\n",
       "    .dataframe thead th {\n",
       "        text-align: right;\n",
       "    }\n",
       "</style>\n",
       "<table border=\"1\" class=\"dataframe\">\n",
       "  <thead>\n",
       "    <tr style=\"text-align: right;\">\n",
       "      <th></th>\n",
       "      <th>Energy Demand (MWH)</th>\n",
       "      <th>HourlyDryBulbTemperature</th>\n",
       "      <th>HourlyDewPointTemperature</th>\n",
       "      <th>HourlyStationPressure</th>\n",
       "      <th>HourlyPrecipitation</th>\n",
       "      <th>HourlyWindSpeed</th>\n",
       "      <th>Energy Price (cents/KWH)</th>\n",
       "      <th>Labor Force Level</th>\n",
       "      <th>Civilian Noninstitutional Population</th>\n",
       "      <th>Labor Force Participation</th>\n",
       "    </tr>\n",
       "  </thead>\n",
       "  <tbody>\n",
       "    <tr>\n",
       "      <th>2018-06-19 05:00:00</th>\n",
       "      <td>7221.0</td>\n",
       "      <td>78.0</td>\n",
       "      <td>72.0</td>\n",
       "      <td>29.62</td>\n",
       "      <td>NaN</td>\n",
       "      <td>6.000000</td>\n",
       "      <td>19.28</td>\n",
       "      <td>4272100.0</td>\n",
       "      <td>7105823.0</td>\n",
       "      <td>60.1</td>\n",
       "    </tr>\n",
       "    <tr>\n",
       "      <th>2018-06-19 06:00:00</th>\n",
       "      <td>6911.0</td>\n",
       "      <td>79.0</td>\n",
       "      <td>70.0</td>\n",
       "      <td>29.63</td>\n",
       "      <td>NaN</td>\n",
       "      <td>6.000000</td>\n",
       "      <td>19.28</td>\n",
       "      <td>4272100.0</td>\n",
       "      <td>7105823.0</td>\n",
       "      <td>60.1</td>\n",
       "    </tr>\n",
       "    <tr>\n",
       "      <th>2018-06-19 07:00:00</th>\n",
       "      <td>6691.0</td>\n",
       "      <td>81.0</td>\n",
       "      <td>69.0</td>\n",
       "      <td>29.63</td>\n",
       "      <td>NaN</td>\n",
       "      <td>3.544254</td>\n",
       "      <td>19.28</td>\n",
       "      <td>4272100.0</td>\n",
       "      <td>7105823.0</td>\n",
       "      <td>60.1</td>\n",
       "    </tr>\n",
       "    <tr>\n",
       "      <th>2018-06-19 08:00:00</th>\n",
       "      <td>6582.0</td>\n",
       "      <td>82.0</td>\n",
       "      <td>67.0</td>\n",
       "      <td>29.63</td>\n",
       "      <td>NaN</td>\n",
       "      <td>3.789006</td>\n",
       "      <td>19.28</td>\n",
       "      <td>4272100.0</td>\n",
       "      <td>7105823.0</td>\n",
       "      <td>60.1</td>\n",
       "    </tr>\n",
       "    <tr>\n",
       "      <th>2018-06-19 09:00:00</th>\n",
       "      <td>6600.0</td>\n",
       "      <td>81.0</td>\n",
       "      <td>69.0</td>\n",
       "      <td>29.65</td>\n",
       "      <td>NaN</td>\n",
       "      <td>7.000000</td>\n",
       "      <td>19.28</td>\n",
       "      <td>4272100.0</td>\n",
       "      <td>7105823.0</td>\n",
       "      <td>60.1</td>\n",
       "    </tr>\n",
       "    <tr>\n",
       "      <th>...</th>\n",
       "      <td>...</td>\n",
       "      <td>...</td>\n",
       "      <td>...</td>\n",
       "      <td>...</td>\n",
       "      <td>...</td>\n",
       "      <td>...</td>\n",
       "      <td>...</td>\n",
       "      <td>...</td>\n",
       "      <td>...</td>\n",
       "      <td>...</td>\n",
       "    </tr>\n",
       "    <tr>\n",
       "      <th>2023-08-05 14:00:00</th>\n",
       "      <td>6168.0</td>\n",
       "      <td>84.0</td>\n",
       "      <td>58.0</td>\n",
       "      <td>29.81</td>\n",
       "      <td>NaN</td>\n",
       "      <td>6.000000</td>\n",
       "      <td>22.33</td>\n",
       "      <td>4165918.0</td>\n",
       "      <td>6747734.0</td>\n",
       "      <td>61.7</td>\n",
       "    </tr>\n",
       "    <tr>\n",
       "      <th>2023-08-05 15:00:00</th>\n",
       "      <td>6431.0</td>\n",
       "      <td>83.0</td>\n",
       "      <td>60.0</td>\n",
       "      <td>29.82</td>\n",
       "      <td>NaN</td>\n",
       "      <td>7.000000</td>\n",
       "      <td>22.33</td>\n",
       "      <td>4165918.0</td>\n",
       "      <td>6747734.0</td>\n",
       "      <td>61.7</td>\n",
       "    </tr>\n",
       "    <tr>\n",
       "      <th>2023-08-05 16:00:00</th>\n",
       "      <td>6599.0</td>\n",
       "      <td>82.0</td>\n",
       "      <td>55.0</td>\n",
       "      <td>29.82</td>\n",
       "      <td>NaN</td>\n",
       "      <td>0.000000</td>\n",
       "      <td>22.33</td>\n",
       "      <td>4165918.0</td>\n",
       "      <td>6747734.0</td>\n",
       "      <td>61.7</td>\n",
       "    </tr>\n",
       "    <tr>\n",
       "      <th>2023-08-05 17:00:00</th>\n",
       "      <td>6745.0</td>\n",
       "      <td>81.0</td>\n",
       "      <td>56.0</td>\n",
       "      <td>29.82</td>\n",
       "      <td>NaN</td>\n",
       "      <td>5.000000</td>\n",
       "      <td>22.33</td>\n",
       "      <td>4165918.0</td>\n",
       "      <td>6747734.0</td>\n",
       "      <td>61.7</td>\n",
       "    </tr>\n",
       "    <tr>\n",
       "      <th>2023-08-05 18:00:00</th>\n",
       "      <td>6810.0</td>\n",
       "      <td>81.0</td>\n",
       "      <td>54.0</td>\n",
       "      <td>29.83</td>\n",
       "      <td>NaN</td>\n",
       "      <td>3.000000</td>\n",
       "      <td>22.33</td>\n",
       "      <td>4165918.0</td>\n",
       "      <td>6747734.0</td>\n",
       "      <td>61.7</td>\n",
       "    </tr>\n",
       "  </tbody>\n",
       "</table>\n",
       "<p>44966 rows × 10 columns</p>\n",
       "</div>"
      ],
      "text/plain": [
       "                     Energy Demand (MWH)  HourlyDryBulbTemperature  \\\n",
       "2018-06-19 05:00:00               7221.0                      78.0   \n",
       "2018-06-19 06:00:00               6911.0                      79.0   \n",
       "2018-06-19 07:00:00               6691.0                      81.0   \n",
       "2018-06-19 08:00:00               6582.0                      82.0   \n",
       "2018-06-19 09:00:00               6600.0                      81.0   \n",
       "...                                  ...                       ...   \n",
       "2023-08-05 14:00:00               6168.0                      84.0   \n",
       "2023-08-05 15:00:00               6431.0                      83.0   \n",
       "2023-08-05 16:00:00               6599.0                      82.0   \n",
       "2023-08-05 17:00:00               6745.0                      81.0   \n",
       "2023-08-05 18:00:00               6810.0                      81.0   \n",
       "\n",
       "                     HourlyDewPointTemperature  HourlyStationPressure  \\\n",
       "2018-06-19 05:00:00                       72.0                  29.62   \n",
       "2018-06-19 06:00:00                       70.0                  29.63   \n",
       "2018-06-19 07:00:00                       69.0                  29.63   \n",
       "2018-06-19 08:00:00                       67.0                  29.63   \n",
       "2018-06-19 09:00:00                       69.0                  29.65   \n",
       "...                                        ...                    ...   \n",
       "2023-08-05 14:00:00                       58.0                  29.81   \n",
       "2023-08-05 15:00:00                       60.0                  29.82   \n",
       "2023-08-05 16:00:00                       55.0                  29.82   \n",
       "2023-08-05 17:00:00                       56.0                  29.82   \n",
       "2023-08-05 18:00:00                       54.0                  29.83   \n",
       "\n",
       "                    HourlyPrecipitation  HourlyWindSpeed  \\\n",
       "2018-06-19 05:00:00                 NaN         6.000000   \n",
       "2018-06-19 06:00:00                 NaN         6.000000   \n",
       "2018-06-19 07:00:00                 NaN         3.544254   \n",
       "2018-06-19 08:00:00                 NaN         3.789006   \n",
       "2018-06-19 09:00:00                 NaN         7.000000   \n",
       "...                                 ...              ...   \n",
       "2023-08-05 14:00:00                 NaN         6.000000   \n",
       "2023-08-05 15:00:00                 NaN         7.000000   \n",
       "2023-08-05 16:00:00                 NaN         0.000000   \n",
       "2023-08-05 17:00:00                 NaN         5.000000   \n",
       "2023-08-05 18:00:00                 NaN         3.000000   \n",
       "\n",
       "                     Energy Price (cents/KWH)  Labor Force Level  \\\n",
       "2018-06-19 05:00:00                     19.28          4272100.0   \n",
       "2018-06-19 06:00:00                     19.28          4272100.0   \n",
       "2018-06-19 07:00:00                     19.28          4272100.0   \n",
       "2018-06-19 08:00:00                     19.28          4272100.0   \n",
       "2018-06-19 09:00:00                     19.28          4272100.0   \n",
       "...                                       ...                ...   \n",
       "2023-08-05 14:00:00                     22.33          4165918.0   \n",
       "2023-08-05 15:00:00                     22.33          4165918.0   \n",
       "2023-08-05 16:00:00                     22.33          4165918.0   \n",
       "2023-08-05 17:00:00                     22.33          4165918.0   \n",
       "2023-08-05 18:00:00                     22.33          4165918.0   \n",
       "\n",
       "                     Civilian Noninstitutional Population  \\\n",
       "2018-06-19 05:00:00                             7105823.0   \n",
       "2018-06-19 06:00:00                             7105823.0   \n",
       "2018-06-19 07:00:00                             7105823.0   \n",
       "2018-06-19 08:00:00                             7105823.0   \n",
       "2018-06-19 09:00:00                             7105823.0   \n",
       "...                                                   ...   \n",
       "2023-08-05 14:00:00                             6747734.0   \n",
       "2023-08-05 15:00:00                             6747734.0   \n",
       "2023-08-05 16:00:00                             6747734.0   \n",
       "2023-08-05 17:00:00                             6747734.0   \n",
       "2023-08-05 18:00:00                             6747734.0   \n",
       "\n",
       "                     Labor Force Participation  \n",
       "2018-06-19 05:00:00                       60.1  \n",
       "2018-06-19 06:00:00                       60.1  \n",
       "2018-06-19 07:00:00                       60.1  \n",
       "2018-06-19 08:00:00                       60.1  \n",
       "2018-06-19 09:00:00                       60.1  \n",
       "...                                        ...  \n",
       "2023-08-05 14:00:00                       61.7  \n",
       "2023-08-05 15:00:00                       61.7  \n",
       "2023-08-05 16:00:00                       61.7  \n",
       "2023-08-05 17:00:00                       61.7  \n",
       "2023-08-05 18:00:00                       61.7  \n",
       "\n",
       "[44966 rows x 10 columns]"
      ]
     },
     "metadata": {},
     "output_type": "display_data"
    }
   ],
   "source": [
    "# load in clean dataset\n",
    "clean_data = pd.read_csv(r\"/home/tobi/Desktop/Capstone/EnergyDemandForecasting/src/Saved/Datasets/clean_training.csv\", index_col=0)\n",
    "display(clean_data)"
   ]
  },
  {
   "cell_type": "code",
   "execution_count": null,
   "metadata": {},
   "outputs": [],
   "source": [
    "# encode hour of the day, day of the week, and day of the year in terms of sine and cosine\n",
    "\n",
    "# should also try doing this without sine and cosine and compare the difference"
   ]
  },
  {
   "cell_type": "code",
   "execution_count": 2,
   "metadata": {},
   "outputs": [
    {
     "name": "stdout",
     "output_type": "stream",
     "text": [
      "PyTorch is using: Radeon RX 7900 XTX\n"
     ]
    }
   ],
   "source": [
    "if t.cuda.is_available():\n",
    "    device = t.device(\"cuda\")\n",
    "    print(\"PyTorch is using:\", t.cuda.get_device_name(0))\n",
    "else:\n",
    "    print(\"PyTorch is using CPU\")"
   ]
  },
  {
   "cell_type": "code",
   "execution_count": 4,
   "metadata": {},
   "outputs": [
    {
     "data": {
      "text/plain": [
       "device(type='cuda', index=0)"
      ]
     },
     "metadata": {},
     "output_type": "display_data"
    }
   ],
   "source": [
    "# test using gpu\n",
    "test = t.randn(32, 5, device=\"cuda\")\n",
    "display(test.device)"
   ]
  },
  {
   "cell_type": "code",
   "execution_count": 6,
   "metadata": {},
   "outputs": [
    {
     "data": {
      "text/plain": [
       "torch.Size([32, 24, 2])"
      ]
     },
     "metadata": {},
     "output_type": "display_data"
    },
    {
     "name": "stdout",
     "output_type": "stream",
     "text": [
      "Output shape: torch.Size([32, 1])\n"
     ]
    }
   ],
   "source": [
    "import numpy as np\n",
    "\n",
    "class LSTMWithTimeEncoding(t.nn.Module):\n",
    "    def __init__(self, input_size, hidden_size, num_layers, output_size):\n",
    "        super(LSTMWithTimeEncoding, self).__init__()\n",
    "        self.hidden_size = hidden_size\n",
    "        self.num_layers = num_layers\n",
    "        self.lstm = t.nn.LSTM(input_size, hidden_size, num_layers, batch_first=True)\n",
    "        self.fc = t.nn.Linear(hidden_size, output_size)\n",
    "\n",
    "    def forward(self, x, time_encoding):\n",
    "        # Initialize hidden state and cell state\n",
    "        h0 = t.zeros(self.num_layers, x.size(0), self.hidden_size).to(x.device)\n",
    "        c0 = t.zeros(self.num_layers, x.size(0), self.hidden_size).to(x.device)\n",
    "\n",
    "        # Concatenate time encoding with input features\n",
    "        x = t.cat([x, time_encoding], dim=-1)\n",
    "\n",
    "        # Forward propagate LSTM\n",
    "        out, _ = self.lstm(x, (h0, c0))\n",
    "\n",
    "        # Decode the hidden state of the last time step\n",
    "        out = self.fc(out[:, -1, :])\n",
    "        return out\n",
    "\n",
    "# Example usage:\n",
    "input_size = 10  # Number of features in the input\n",
    "hidden_size = 32  # Number of LSTM units (hidden size)\n",
    "num_layers = 2  # Number of LSTM layers\n",
    "output_size = 1  # Number of output predictions\n",
    "seq_length = 24  # Length of input sequence (assuming hourly data)\n",
    "\n",
    "# Initialize the LSTM model\n",
    "model = LSTMWithTimeEncoding(input_size + 4, hidden_size, num_layers, output_size)  # Additional 4 for time encoding\n",
    "\n",
    "# Example input tensor (batch_size, seq_length, input_size)\n",
    "input_tensor = t.randn(32, seq_length, input_size)\n",
    "\n",
    "# Example time encoding for hour of the day and day of the week\n",
    "hour_of_day = np.arange(seq_length) % 24\n",
    "day_of_week = np.arange(seq_length) // 24 % 7\n",
    "\n",
    "# Calculate sine and cosine encodings\n",
    "hour_encoding = np.column_stack([np.sin(2 * np.pi * hour_of_day / 24), np.cos(2 * np.pi * hour_of_day / 24)])\n",
    "day_encoding = np.column_stack([np.sin(2 * np.pi * day_of_week / 7), np.cos(2 * np.pi * day_of_week / 7)])\n",
    "\n",
    "# Repeat encodings for each sample in the batch\n",
    "hour_encoding = np.tile(hour_encoding, (input_tensor.shape[0], 1, 1))\n",
    "day_encoding = np.tile(day_encoding, (input_tensor.shape[0], 1, 1))\n",
    "\n",
    "# Convert encodings to PyTorch tensors\n",
    "hour_encoding = t.FloatTensor(hour_encoding)\n",
    "day_encoding = t.FloatTensor(day_encoding)\n",
    "\n",
    "display(hour_encoding.shape)\n",
    "# Forward pass\n",
    "output = model(input_tensor, t.cat([hour_encoding, day_encoding], dim=-1))\n",
    "print(\"Output shape:\", output.shape)\n"
   ]
  },
  {
   "cell_type": "code",
   "execution_count": 8,
   "metadata": {},
   "outputs": [
    {
     "data": {
      "text/plain": [
       "tensor([ 0.0000e+00,  2.5882e-01,  5.0000e-01,  7.0711e-01,  8.6603e-01,\n",
       "         9.6593e-01,  1.0000e+00,  9.6593e-01,  8.6603e-01,  7.0711e-01,\n",
       "         5.0000e-01,  2.5882e-01,  1.2246e-16, -2.5882e-01, -5.0000e-01,\n",
       "        -7.0711e-01, -8.6603e-01, -9.6593e-01, -1.0000e+00, -9.6593e-01,\n",
       "        -8.6603e-01, -7.0711e-01, -5.0000e-01, -2.5882e-01])"
      ]
     },
     "metadata": {},
     "output_type": "display_data"
    },
    {
     "data": {
      "text/plain": [
       "tensor([ 1.0000e+00,  9.6593e-01,  8.6603e-01,  7.0711e-01,  5.0000e-01,\n",
       "         2.5882e-01,  6.1232e-17, -2.5882e-01, -5.0000e-01, -7.0711e-01,\n",
       "        -8.6603e-01, -9.6593e-01, -1.0000e+00, -9.6593e-01, -8.6603e-01,\n",
       "        -7.0711e-01, -5.0000e-01, -2.5882e-01, -1.8370e-16,  2.5882e-01,\n",
       "         5.0000e-01,  7.0711e-01,  8.6603e-01,  9.6593e-01])"
      ]
     },
     "metadata": {},
     "output_type": "display_data"
    }
   ],
   "source": [
    "display(hour_encoding[0,:,0])\n",
    "display(hour_encoding[1,:,1])"
   ]
  },
  {
   "cell_type": "code",
   "execution_count": 11,
   "metadata": {},
   "outputs": [
    {
     "data": {
      "text/plain": [
       "<Axes: >"
      ]
     },
     "execution_count": 11,
     "metadata": {},
     "output_type": "execute_result"
    },
    {
     "data": {
      "image/png": "[encoded data removed]",
      "text/plain": [
       "<Figure size 640x480 with 1 Axes>"
      ]
     },
     "metadata": {},
     "output_type": "display_data"
    }
   ],
   "source": [
    "sns.lineplot(data=hour_encoding[0,:,0])\n",
    "sns.lineplot(data=hour_encoding[1,:,1])"
   ]
  },
  {
   "cell_type": "code",
   "execution_count": null,
   "metadata": {},
   "outputs": [],
   "source": []
  }
 ],
 "metadata": {
  "kernelspec": {
   "display_name": "Capstone",
   "language": "python",
   "name": "python3"
  },
  "language_info": {
   "codemirror_mode": {
    "name": "ipython",
    "version": 3
   },
   "file_extension": ".py",
   "mimetype": "text/x-python",
   "name": "python",
   "nbconvert_exporter": "python",
   "pygments_lexer": "ipython3",
   "version": "3.11.7"
  }
 },
 "nbformat": 4,
 "nbformat_minor": 2
}
