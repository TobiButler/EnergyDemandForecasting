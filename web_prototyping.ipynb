{
 "cells": [
  {
   "cell_type": "code",
   "execution_count": null,
   "metadata": {},
   "outputs": [],
   "source": []
  },
  {
   "cell_type": "code",
   "execution_count": null,
   "metadata": {},
   "outputs": [],
   "source": [
    "import streamlit as st\n",
    "import plotly.express as px\n",
    "\n",
    "def main():\n",
    "    st.title(\"My Interactive Data Visualization App\")\n",
    "\n",
    "    st.header(\"Page 1\")\n",
    "    st.write(\"This is the first page.\")\n",
    "    # Create Plotly visualizations\n",
    "    fig = px.scatter(x=[1, 2, 3, 4], y=[10, 11, 12, 13])\n",
    "    st.plotly_chart(fig)\n",
    "\n",
    "    st.header(\"Page 2\")\n",
    "    st.write(\"This is the second page.\")\n",
    "    # Create another Plotly visualization\n",
    "    fig2 = px.bar(x=['A', 'B', 'C'], y=[4, 3, 2])\n",
    "    st.plotly_chart(fig2)\n",
    "\n",
    "    st.header(\"Page 3\")\n",
    "    st.write(\"This is the third page.\")\n",
    "    # Include interactive elements\n",
    "    selected_option = st.selectbox(\"Choose an option\", [\"Option 1\", \"Option 2\", \"Option 3\"])\n",
    "    st.write(\"You selected:\", selected_option)\n",
    "\n",
    "if __name__ == \"__main__\":\n",
    "    main()"
   ]
  },
  {
   "cell_type": "code",
   "execution_count": null,
   "metadata": {},
   "outputs": [],
   "source": []
  },
  {
   "cell_type": "code",
   "execution_count": null,
   "metadata": {},
   "outputs": [],
   "source": []
  },
  {
   "cell_type": "code",
   "execution_count": null,
   "metadata": {},
   "outputs": [],
   "source": []
  }
 ],
 "metadata": {
  "kernelspec": {
   "display_name": "Python 3",
   "language": "python",
   "name": "python3"
  },
  "language_info": {
   "name": "python",
   "version": "3.11.7"
  }
 },
 "nbformat": 4,
 "nbformat_minor": 2
}
